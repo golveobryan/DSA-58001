{
  "nbformat": 4,
  "nbformat_minor": 0,
  "metadata": {
    "colab": {
      "provenance": [],
      "authorship_tag": "ABX9TyPpRNGJxp0mJeBWcCvhszAD",
      "include_colab_link": true
    },
    "kernelspec": {
      "name": "python3",
      "display_name": "Python 3"
    },
    "language_info": {
      "name": "python"
    }
  },
  "cells": [
    {
      "cell_type": "markdown",
      "metadata": {
        "id": "view-in-github",
        "colab_type": "text"
      },
      "source": [
        "<a href=\"https://colab.research.google.com/github/golveobryan/DSA-58011/blob/main/Graphs.ipynb\" target=\"_parent\"><img src=\"https://colab.research.google.com/assets/colab-badge.svg\" alt=\"Open In Colab\"/></a>"
      ]
    },
    {
      "cell_type": "markdown",
      "source": [
        "Data Elements using Dictionaries to implement Graphs"
      ],
      "metadata": {
        "id": "PibwgO9lmsR4"
      }
    },
    {
      "cell_type": "code",
      "source": [
        "graph = {\n",
        "    'a':['b','c'],\n",
        "    'b':['a','d'],\n",
        "    'c':['a','d'],\n",
        "    'd':['b','c','e'],\n",
        "    'e':['e']\n",
        "\n",
        "}\n",
        "print(graph)"
      ],
      "metadata": {
        "colab": {
          "base_uri": "https://localhost:8080/"
        },
        "id": "SMr80PhBmvKa",
        "outputId": "cba71a4c-533b-4233-80c0-ef74840178a4"
      },
      "execution_count": 4,
      "outputs": [
        {
          "output_type": "stream",
          "name": "stdout",
          "text": [
            "{'a': ['b', 'c'], 'b': ['a', 'd'], 'c': ['a', 'd'], 'd': ['b', 'c', 'e'], 'e': ['e']}\n"
          ]
        }
      ]
    },
    {
      "cell_type": "markdown",
      "source": [
        "Application 1(G20)"
      ],
      "metadata": {
        "id": "HXILV92em3lP"
      }
    },
    {
      "cell_type": "code",
      "source": [
        "g20 = {\n",
        "    '2':['1','4'],\n",
        "    '3':['3','4'],\n",
        "    '1':['4'],\n",
        "\n",
        "}\n",
        "print(g20)\n",
        "\n",
        "V = {1,2,3,4}\n",
        "E= {'2': ['1', '4'], '3': ['3', '4'], '1': ['4']}"
      ],
      "metadata": {
        "colab": {
          "base_uri": "https://localhost:8080/"
        },
        "id": "otszssK8m4pS",
        "outputId": "9bdd072a-3dab-4b91-aa0a-308f98c32e37"
      },
      "execution_count": 5,
      "outputs": [
        {
          "output_type": "stream",
          "name": "stdout",
          "text": [
            "{'2': ['1', '4'], '3': ['3', '4'], '1': ['4']}\n"
          ]
        }
      ]
    }
  ]
}