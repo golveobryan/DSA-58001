{
  "nbformat": 4,
  "nbformat_minor": 0,
  "metadata": {
    "colab": {
      "provenance": [],
      "authorship_tag": "ABX9TyO/UDSnDVx/4Z+RYg01gkuQ",
      "include_colab_link": true
    },
    "kernelspec": {
      "name": "python3",
      "display_name": "Python 3"
    },
    "language_info": {
      "name": "python"
    }
  },
  "cells": [
    {
      "cell_type": "markdown",
      "metadata": {
        "id": "view-in-github",
        "colab_type": "text"
      },
      "source": [
        "<a href=\"https://colab.research.google.com/github/golveobryan/DSA-58011/blob/main/Prelim_Exam.ipynb\" target=\"_parent\"><img src=\"https://colab.research.google.com/assets/colab-badge.svg\" alt=\"Open In Colab\"/></a>"
      ]
    },
    {
      "cell_type": "markdown",
      "source": [
        "1. Choose Array or Linked-List data structure\n",
        "2. Create a python program that appends all composite integers less than 10 but greater than 1 and counts the number of composite.\n",
        "3. Save your program as \"Prelim Exam\" to your Github\n",
        "4. Send the link address of Github to the Prelim Exam folder (BlackBoard)"
      ],
      "metadata": {
        "id": "Nf2WNo_hX-nM"
      }
    },
    {
      "cell_type": "code",
      "source": [
        "Value = [4,6,8,9]\n",
        "print(\"Composite Integers less than 10 but greater than 1 :\",Value)\n",
        "print(\"Number of Composite Integers :\",len(Value))"
      ],
      "metadata": {
        "colab": {
          "base_uri": "https://localhost:8080/"
        },
        "id": "xCQ679VggRyL",
        "outputId": "87442858-cf3f-4b67-81b2-9e37fbe755db"
      },
      "execution_count": 3,
      "outputs": [
        {
          "output_type": "stream",
          "name": "stdout",
          "text": [
            "Composite Integers less than 10 but greater than 1 : [4, 6, 8, 9]\n",
            "Number of Composite Integers : 4\n"
          ]
        }
      ]
    }
  ]
}