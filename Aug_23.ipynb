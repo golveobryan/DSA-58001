{
  "nbformat": 4,
  "nbformat_minor": 0,
  "metadata": {
    "colab": {
      "name": "Aug.23.ipynb",
      "provenance": [],
      "authorship_tag": "ABX9TyOVmG1Ib752o8iZG8PDKWJB",
      "include_colab_link": true
    },
    "kernelspec": {
      "name": "python3",
      "display_name": "Python 3"
    },
    "language_info": {
      "name": "python"
    }
  },
  "cells": [
    {
      "cell_type": "markdown",
      "metadata": {
        "id": "view-in-github",
        "colab_type": "text"
      },
      "source": [
        "<a href=\"https://colab.research.google.com/github/golveobryan/DSA-58001/blob/main/Aug_23.ipynb\" target=\"_parent\"><img src=\"https://colab.research.google.com/assets/colab-badge.svg\" alt=\"Open In Colab\"/></a>"
      ]
    },
    {
      "cell_type": "markdown",
      "source": [
        "Create a python program that computes the area of a circle"
      ],
      "metadata": {
        "id": "S6CNsOP2HjCb"
      }
    },
    {
      "cell_type": "code",
      "source": [
        "class Circle:\n",
        "  def __init__(self, r):\n",
        "    self.radius = r\n",
        "  def area(self):\n",
        "      return 3.14 * (self.radius ** 2)\n",
        "obj = Circle(8)\n",
        "print(\"Area of cirlce:\",obj.area())"
      ],
      "metadata": {
        "colab": {
          "base_uri": "https://localhost:8080/"
        },
        "id": "2BIagr3zHkSy",
        "outputId": "cc7bae14-6922-4bee-8c3f-5d1b328d8327"
      },
      "execution_count": null,
      "outputs": [
        {
          "output_type": "stream",
          "name": "stdout",
          "text": [
            "Area of cirlce: 200.96\n"
          ]
        }
      ]
    }
  ]
}