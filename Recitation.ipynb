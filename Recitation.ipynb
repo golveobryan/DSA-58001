{
  "nbformat": 4,
  "nbformat_minor": 0,
  "metadata": {
    "colab": {
      "provenance": [],
      "authorship_tag": "ABX9TyOV4Vi47TMlzNK2oqKcKBxh",
      "include_colab_link": true
    },
    "kernelspec": {
      "name": "python3",
      "display_name": "Python 3"
    },
    "language_info": {
      "name": "python"
    }
  },
  "cells": [
    {
      "cell_type": "markdown",
      "metadata": {
        "id": "view-in-github",
        "colab_type": "text"
      },
      "source": [
        "<a href=\"https://colab.research.google.com/github/golveobryan/DSA-58011/blob/main/Recitation.ipynb\" target=\"_parent\"><img src=\"https://colab.research.google.com/assets/colab-badge.svg\" alt=\"Open In Colab\"/></a>"
      ]
    },
    {
      "cell_type": "code",
      "execution_count": 1,
      "metadata": {
        "id": "-W6XdigzQ9P5",
        "outputId": "442bedae-0bcb-4e23-d14b-d2491a0ff949",
        "colab": {
          "base_uri": "https://localhost:8080/"
        }
      },
      "outputs": [
        {
          "output_type": "stream",
          "name": "stdout",
          "text": [
            "a\n",
            "e\n",
            "i\n",
            "o\n",
            "u\n",
            "\n",
            "head:  a\n",
            "tail:  u\n"
          ]
        }
      ],
      "source": [
        "class Node:\n",
        "  def __init__(self, data=None):\n",
        "    self.data = data\n",
        "    self.next = None\n",
        "\n",
        "class singly_linked_list:\n",
        "  def __init__(self):\n",
        "    self.head = None\n",
        "    self.tail = None\n",
        "    self.count = 0\n",
        "  def iterate_item(self):\n",
        "        current_item = self.head\n",
        "        while current_item:\n",
        "            val = current_item.data\n",
        "            current_item = current_item.next\n",
        "            yield val\n",
        "  def append_item(self, data):\n",
        "        node = Node(data)\n",
        "        if self.tail:\n",
        "            self.tail.next = node\n",
        "            self.tail = node\n",
        "        else:\n",
        "            self.head = node\n",
        "            self.tail = node\n",
        "        self.count += 1\n",
        "items = singly_linked_list()\n",
        "items.append_item('a')\n",
        "items.append_item('e')\n",
        "items.append_item('i')\n",
        "items.append_item('o')\n",
        "items.append_item('u')\n",
        "for val in items.iterate_item():\n",
        " print(val)\n",
        "print(\"\\nhead: \",items.head.data)\n",
        "print(\"tail: \",items.tail.data)"
      ]
    }
  ]
}