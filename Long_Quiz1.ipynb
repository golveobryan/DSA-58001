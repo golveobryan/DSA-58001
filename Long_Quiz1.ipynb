{
  "nbformat": 4,
  "nbformat_minor": 0,
  "metadata": {
    "colab": {
      "provenance": [],
      "authorship_tag": "ABX9TyOmrAFwOnF3rQGIdUDXKCfR",
      "include_colab_link": true
    },
    "kernelspec": {
      "name": "python3",
      "display_name": "Python 3"
    },
    "language_info": {
      "name": "python"
    }
  },
  "cells": [
    {
      "cell_type": "markdown",
      "metadata": {
        "id": "view-in-github",
        "colab_type": "text"
      },
      "source": [
        "<a href=\"https://colab.research.google.com/github/golveobryan/DSA-58011/blob/main/Long_Quiz1.ipynb\" target=\"_parent\"><img src=\"https://colab.research.google.com/assets/colab-badge.svg\" alt=\"Open In Colab\"/></a>"
      ]
    },
    {
      "cell_type": "markdown",
      "source": [
        "1. Choose Array or Linked-List data structure\n",
        "2. Creat a python program that inserts each character of your full name and display your full name reverse order (in colab)\n",
        "3. Save your program as \"Long Quiz 1\" to  your Github\n",
        "4. Send the link address of Github to the Practical Laboratory folder (Blackboard)"
      ],
      "metadata": {
        "id": "4eSzOYzBb3V5"
      }
    },
    {
      "cell_type": "code",
      "source": [
        "arr = [\"Bryan\",\"Golveo\"]\n",
        "print(\"Full name :\",arr)\n",
        " \n",
        "res = arr[::-1] \n",
        "print(\"Reversed Full Name:\",res)"
      ],
      "metadata": {
        "colab": {
          "base_uri": "https://localhost:8080/"
        },
        "id": "CMkBS7Hucw5U",
        "outputId": "0c491ac7-fd3e-47b6-b7cd-56c0570c493c"
      },
      "execution_count": 1,
      "outputs": [
        {
          "output_type": "stream",
          "name": "stdout",
          "text": [
            "Full name : ['Bryan', 'Golveo']\n",
            "Reversed Full Name: ['Golveo', 'Bryan']\n"
          ]
        }
      ]
    },
    {
      "cell_type": "markdown",
      "source": [
        "LINKED-LIST"
      ],
      "metadata": {
        "id": "_2fKe4LRgLpG"
      }
    },
    {
      "cell_type": "code",
      "source": [
        "class Node:\n",
        "\n",
        "    def __init__(self, data):\n",
        "        self.data = data\n",
        "        self.next = None\n",
        "  \n",
        "class LinkedList:\n",
        "  \n",
        "    def __init__(self):\n",
        "        self.head = None\n",
        "  \n",
        "    def reverse(self):\n",
        "        prev = None\n",
        "        current = self.head\n",
        "        while(current is not None):\n",
        "            next = current.next\n",
        "            current.next = prev\n",
        "            prev = current\n",
        "            current = next\n",
        "        self.head = prev\n",
        "\n",
        "    def push(self, new_data):\n",
        "        new_node = Node(new_data)\n",
        "        new_node.next = self.head\n",
        "        self.head = new_node\n",
        " \n",
        "    def printList(self):\n",
        "        temp = self.head\n",
        "        while(temp):\n",
        "            print (temp.data,end=\" \")\n",
        "            temp = temp.next\n",
        "\n",
        "llist = LinkedList()\n",
        "llist.push(\"Golveo\")\n",
        "llist.push(\"Bryan\")\n",
        "  \n",
        "print (\"Full Name:\")\n",
        "llist.printList()\n",
        "llist.reverse()\n",
        "print (\"\\nReversed Full Name:\")\n",
        "llist.printList()"
      ],
      "metadata": {
        "colab": {
          "base_uri": "https://localhost:8080/"
        },
        "id": "80krv3q_gNeH",
        "outputId": "a2c3e94e-6f2d-4b75-802c-e48ed50af195"
      },
      "execution_count": 2,
      "outputs": [
        {
          "output_type": "stream",
          "name": "stdout",
          "text": [
            "Full Name:\n",
            "Bryan Golveo \n",
            "Reversed Full Name:\n",
            "Golveo Bryan "
          ]
        }
      ]
    }
  ]
}